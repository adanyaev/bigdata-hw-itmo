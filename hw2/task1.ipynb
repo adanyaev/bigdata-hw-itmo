{
 "cells": [
  {
   "cell_type": "code",
   "execution_count": 1,
   "id": "08022c11-54f7-46cd-901b-928fed71f612",
   "metadata": {},
   "outputs": [],
   "source": [
    "import pyspark"
   ]
  },
  {
   "cell_type": "code",
   "execution_count": 2,
   "id": "9b6558e0-e2d4-4778-89d5-b1fe9c2eef1e",
   "metadata": {},
   "outputs": [],
   "source": [
    "from pyspark import SparkContext, SparkConf"
   ]
  },
  {
   "cell_type": "code",
   "execution_count": 2,
   "id": "11245422-d02f-45ae-968b-978446b4d181",
   "metadata": {},
   "outputs": [
    {
     "name": "stdout",
     "output_type": "stream",
     "text": [
      "Safe mode is OFF\n"
     ]
    }
   ],
   "source": [
    "!hdfs dfsadmin -safemode leave"
   ]
  },
  {
   "cell_type": "code",
   "execution_count": 11,
   "id": "297bdab7-958b-4515-8117-335443303150",
   "metadata": {},
   "outputs": [],
   "source": [
    "!hdfs dfs -put ../ml-latest-small /"
   ]
  },
  {
   "cell_type": "code",
   "execution_count": 3,
   "id": "61c74f05-5143-4390-a753-b8b35d2cf15d",
   "metadata": {},
   "outputs": [
    {
     "name": "stdout",
     "output_type": "stream",
     "text": [
      "Found 5 items\n",
      "-rw-r--r--   3 root supergroup       8342 2023-12-10 22:02 /ml-latest-small/README.txt\n",
      "-rw-r--r--   3 root supergroup     197979 2023-12-10 22:02 /ml-latest-small/links.csv\n",
      "-rw-r--r--   3 root supergroup     494431 2023-12-10 22:02 /ml-latest-small/movies.csv\n",
      "-rw-r--r--   3 root supergroup    2483723 2023-12-10 22:02 /ml-latest-small/ratings.csv\n",
      "-rw-r--r--   3 root supergroup     118660 2023-12-10 22:02 /ml-latest-small/tags.csv\n"
     ]
    }
   ],
   "source": [
    "!hdfs dfs -ls /ml-latest-small"
   ]
  },
  {
   "cell_type": "code",
   "execution_count": 3,
   "id": "eaa91cab-b01a-430e-8f43-d754e144f085",
   "metadata": {},
   "outputs": [],
   "source": [
    "conf = SparkConf().set(\"spark.executor.instances\", \"2\").set(\"spark.executor.cores\", \"1\").set(\"spark.executor.memory\", \"1g\")"
   ]
  },
  {
   "cell_type": "code",
   "execution_count": 4,
   "id": "7862a77d-2c5b-4da5-adf2-76d3aa506346",
   "metadata": {},
   "outputs": [],
   "source": [
    "from pyspark.sql import SparkSession"
   ]
  },
  {
   "cell_type": "code",
   "execution_count": 5,
   "id": "4f0702f2-506f-4743-a8b0-31c939f09f34",
   "metadata": {},
   "outputs": [
    {
     "name": "stderr",
     "output_type": "stream",
     "text": [
      "Setting default log level to \"WARN\".\n",
      "To adjust logging level use sc.setLogLevel(newLevel). For SparkR, use setLogLevel(newLevel).\n",
      "23/12/12 00:48:52 WARN Client: Neither spark.yarn.jars nor spark.yarn.archive is set, falling back to uploading libraries under SPARK_HOME.\n"
     ]
    }
   ],
   "source": [
    "spark = SparkSession.builder.master(\"yarn\").appName(\"danyaev_spark\").getOrCreate()"
   ]
  },
  {
   "cell_type": "code",
   "execution_count": 6,
   "id": "67e35e1d-9694-456e-aa96-262588cd1c2b",
   "metadata": {},
   "outputs": [
    {
     "data": {
      "text/html": [
       "\n",
       "            <div>\n",
       "                <p><b>SparkSession - in-memory</b></p>\n",
       "                \n",
       "        <div>\n",
       "            <p><b>SparkContext</b></p>\n",
       "\n",
       "            <p><a href=\"http://f28eedc25d65:4040\">Spark UI</a></p>\n",
       "\n",
       "            <dl>\n",
       "              <dt>Version</dt>\n",
       "                <dd><code>v3.5.0</code></dd>\n",
       "              <dt>Master</dt>\n",
       "                <dd><code>yarn</code></dd>\n",
       "              <dt>AppName</dt>\n",
       "                <dd><code>danyaev_spark</code></dd>\n",
       "            </dl>\n",
       "        </div>\n",
       "        \n",
       "            </div>\n",
       "        "
      ],
      "text/plain": [
       "<pyspark.sql.session.SparkSession at 0x7efc540d2890>"
      ]
     },
     "execution_count": 6,
     "metadata": {},
     "output_type": "execute_result"
    }
   ],
   "source": [
    "spark"
   ]
  },
  {
   "cell_type": "code",
   "execution_count": 7,
   "id": "ee6bfc9c-01c0-439e-9cce-34db8f78ac3a",
   "metadata": {},
   "outputs": [],
   "source": [
    "from pyspark.sql.types import *"
   ]
  },
  {
   "cell_type": "code",
   "execution_count": 8,
   "id": "e71de823-cb07-4ee9-a08a-238824139d04",
   "metadata": {},
   "outputs": [],
   "source": [
    "ratings_schema = StructType(fields=[\n",
    "    StructField(\"userId\", IntegerType()),\n",
    "    StructField(\"movieId\", IntegerType()),\n",
    "    StructField(\"rating\", DoubleType()),\n",
    "    StructField(\"timestamp\", LongType()),\n",
    "])"
   ]
  },
  {
   "cell_type": "code",
   "execution_count": 9,
   "id": "a291a6bd-f190-4477-a8a7-522b8df4b2c2",
   "metadata": {},
   "outputs": [],
   "source": [
    "ratings_df = spark\\\n",
    "    .read\\\n",
    "    .format(\"csv\")\\\n",
    "    .option(\"header\", \"True\")\\\n",
    "    .schema(ratings_schema)\\\n",
    "    .load(\"/ml-latest-small/ratings.csv\")"
   ]
  },
  {
   "cell_type": "code",
   "execution_count": 10,
   "id": "6f33cbca-5df4-4171-b1f8-29522cd9fea4",
   "metadata": {},
   "outputs": [
    {
     "data": {
      "text/plain": [
       "DataFrame[userId: int, movieId: int, rating: double, timestamp: bigint]"
      ]
     },
     "execution_count": 10,
     "metadata": {},
     "output_type": "execute_result"
    }
   ],
   "source": [
    "ratings_df"
   ]
  },
  {
   "cell_type": "code",
   "execution_count": 20,
   "id": "33c916e8-aa09-4981-a185-5741994bf41b",
   "metadata": {},
   "outputs": [
    {
     "data": {
      "text/plain": [
       "100836"
      ]
     },
     "execution_count": 20,
     "metadata": {},
     "output_type": "execute_result"
    }
   ],
   "source": [
    "ratings_df.count()"
   ]
  },
  {
   "cell_type": "markdown",
   "id": "d50504df-09eb-483a-af2c-f9f73a039062",
   "metadata": {},
   "source": [
    "Было выполнено 2 стейджа, 2 таски"
   ]
  },
  {
   "cell_type": "code",
   "execution_count": 11,
   "id": "ef5409d2-4fe8-4bd4-87ec-33a98c048e30",
   "metadata": {},
   "outputs": [],
   "source": [
    "tags_schema = StructType([\n",
    "    StructField(\"userId\", IntegerType(), True), \n",
    "    StructField(\"movieId\", IntegerType(), True), \n",
    "    StructField(\"tag\", StringType(), True), \n",
    "    StructField(\"timestamp\", LongType(), True)])"
   ]
  },
  {
   "cell_type": "code",
   "execution_count": 12,
   "id": "eac6f14e-9365-42df-88b6-77d3fad51442",
   "metadata": {},
   "outputs": [],
   "source": [
    "tags_df = spark.read.csv(\"/ml-latest-small/tags.csv\", header=True, schema=tags_schema)"
   ]
  },
  {
   "cell_type": "code",
   "execution_count": 13,
   "id": "b33e3eeb-8178-48b3-8ca3-7ce54559fe38",
   "metadata": {},
   "outputs": [
    {
     "data": {
      "text/plain": [
       "DataFrame[userId: int, movieId: int, tag: string, timestamp: bigint]"
      ]
     },
     "execution_count": 13,
     "metadata": {},
     "output_type": "execute_result"
    }
   ],
   "source": [
    "tags_df"
   ]
  },
  {
   "cell_type": "code",
   "execution_count": 51,
   "id": "d4db0ea6-099c-4b6c-a01d-a8c5d747db30",
   "metadata": {},
   "outputs": [
    {
     "data": {
      "text/plain": [
       "3683"
      ]
     },
     "execution_count": 51,
     "metadata": {},
     "output_type": "execute_result"
    }
   ],
   "source": [
    "tags_df.count()"
   ]
  },
  {
   "cell_type": "markdown",
   "id": "5a4cef86-ee35-4710-82ad-4fe8fd74404e",
   "metadata": {},
   "source": [
    "Было выполнено 2 стейджа, 2 таски"
   ]
  },
  {
   "cell_type": "code",
   "execution_count": null,
   "id": "052055b1-5fcf-435e-9e01-ffced1909e5c",
   "metadata": {},
   "outputs": [],
   "source": []
  },
  {
   "cell_type": "markdown",
   "id": "e13a531e-5ed2-40e0-bcc7-2e44e6dc7a05",
   "metadata": {},
   "source": [
    "Посчитать количество уникальных фильмов и уникальных юзеров в таблице “ratings”"
   ]
  },
  {
   "cell_type": "code",
   "execution_count": 22,
   "id": "0970f9bd-db09-41e3-b98b-7724c96ca357",
   "metadata": {},
   "outputs": [
    {
     "data": {
      "text/plain": [
       "9724"
      ]
     },
     "execution_count": 22,
     "metadata": {},
     "output_type": "execute_result"
    }
   ],
   "source": [
    "ratings_df.select(\"movieId\").distinct().count()"
   ]
  },
  {
   "cell_type": "code",
   "execution_count": 23,
   "id": "e3284254-464b-4602-8484-89d061cfdb77",
   "metadata": {},
   "outputs": [
    {
     "data": {
      "text/plain": [
       "610"
      ]
     },
     "execution_count": 23,
     "metadata": {},
     "output_type": "execute_result"
    }
   ],
   "source": [
    "ratings_df.select(\"userId\").distinct().count()"
   ]
  },
  {
   "cell_type": "markdown",
   "id": "451968bc-37c2-4993-8c38-053d787f27fb",
   "metadata": {},
   "source": [
    "Посчитать, сколько было поставлено оценок >= 4.0"
   ]
  },
  {
   "cell_type": "code",
   "execution_count": 16,
   "id": "50c44915-6e9a-4a5f-9900-5fce59e9d3bb",
   "metadata": {},
   "outputs": [],
   "source": [
    "import pyspark.sql.functions as f"
   ]
  },
  {
   "cell_type": "code",
   "execution_count": 25,
   "id": "e5c2889e-99f7-42a2-879b-50eaa7b3ad14",
   "metadata": {},
   "outputs": [
    {
     "data": {
      "text/plain": [
       "48580"
      ]
     },
     "execution_count": 25,
     "metadata": {},
     "output_type": "execute_result"
    }
   ],
   "source": [
    "ratings_df.select(\"rating\").filter(f.col(\"rating\") >= 4.0).count()"
   ]
  },
  {
   "cell_type": "markdown",
   "id": "b60dcc9f-5ae4-452a-b6e6-75560c1537eb",
   "metadata": {},
   "source": [
    "Вывести топ100 фильмов с самым высоким рейтингом. (6 баллов)"
   ]
  },
  {
   "cell_type": "code",
   "execution_count": 32,
   "id": "6b5e2046-dd0c-4abb-853d-87f459ad2a1c",
   "metadata": {},
   "outputs": [
    {
     "name": "stdout",
     "output_type": "stream",
     "text": [
      "+-------+----------+\n",
      "|movieId|avg_rating|\n",
      "+-------+----------+\n",
      "|  80124|       5.0|\n",
      "|  74226|       5.0|\n",
      "| 175387|       5.0|\n",
      "|    148|       5.0|\n",
      "| 158027|       5.0|\n",
      "|  67618|       5.0|\n",
      "|  42556|       5.0|\n",
      "| 142444|       5.0|\n",
      "|  44943|       5.0|\n",
      "|  27523|       5.0|\n",
      "| 113829|       5.0|\n",
      "|   3073|       5.0|\n",
      "| 152711|       5.0|\n",
      "| 132333|       5.0|\n",
      "|     53|       5.0|\n",
      "|  27704|       5.0|\n",
      "| 147300|       5.0|\n",
      "| 187717|       5.0|\n",
      "|    633|       5.0|\n",
      "|   8238|       5.0|\n",
      "|    876|       5.0|\n",
      "| 120138|       5.0|\n",
      "|  53578|       5.0|\n",
      "| 163072|       5.0|\n",
      "| 160644|       5.0|\n",
      "| 172909|       5.0|\n",
      "|   5490|       5.0|\n",
      "| 172583|       5.0|\n",
      "|   2972|       5.0|\n",
      "|   2196|       5.0|\n",
      "|  25887|       5.0|\n",
      "| 118834|       5.0|\n",
      "|   3795|       5.0|\n",
      "| 156025|       5.0|\n",
      "|   3941|       5.0|\n",
      "| 120130|       5.0|\n",
      "|    626|       5.0|\n",
      "|   1349|       5.0|\n",
      "|  26928|       5.0|\n",
      "| 122092|       5.0|\n",
      "|  40491|       5.0|\n",
      "|  71268|       5.0|\n",
      "| 167064|       5.0|\n",
      "|  99636|       5.0|\n",
      "|  25906|       5.0|\n",
      "|   6086|       5.0|\n",
      "| 141928|       5.0|\n",
      "|  47736|       5.0|\n",
      "|   6201|       5.0|\n",
      "| 164367|       5.0|\n",
      "|   3792|       5.0|\n",
      "| 172589|       5.0|\n",
      "| 146684|       5.0|\n",
      "|   3473|       5.0|\n",
      "| 172793|       5.0|\n",
      "|  50999|       5.0|\n",
      "| 136469|       5.0|\n",
      "| 141718|       5.0|\n",
      "| 124851|       5.0|\n",
      "|  85295|       5.0|\n",
      "|   4788|       5.0|\n",
      "| 173619|       5.0|\n",
      "|   6835|       5.0|\n",
      "|   2824|       5.0|\n",
      "|    496|       5.0|\n",
      "|  26147|       5.0|\n",
      "| 157775|       5.0|\n",
      "|   4454|       5.0|\n",
      "|  44851|       5.0|\n",
      "| 104780|       5.0|\n",
      "| 149566|       5.0|\n",
      "|   7096|       5.0|\n",
      "| 109241|       5.0|\n",
      "| 131724|       5.0|\n",
      "|   3567|       5.0|\n",
      "|  69211|       5.0|\n",
      "| 136834|       5.0|\n",
      "| 163925|       5.0|\n",
      "|   3940|       5.0|\n",
      "| 173355|       5.0|\n",
      "|  91386|       5.0|\n",
      "|   7815|       5.0|\n",
      "|   5513|       5.0|\n",
      "| 115727|       5.0|\n",
      "|  84273|       5.0|\n",
      "| 172705|       5.0|\n",
      "|  27373|       5.0|\n",
      "| 109633|       5.0|\n",
      "| 114265|       5.0|\n",
      "| 172875|       5.0|\n",
      "| 163112|       5.0|\n",
      "| 159811|       5.0|\n",
      "|  94810|       5.0|\n",
      "| 147286|       5.0|\n",
      "|  53355|       5.0|\n",
      "|   7122|       5.0|\n",
      "|  69860|       5.0|\n",
      "|  79897|       5.0|\n",
      "|  83969|       5.0|\n",
      "|  95311|       5.0|\n",
      "+-------+----------+\n",
      "only showing top 100 rows\n",
      "\n"
     ]
    }
   ],
   "source": [
    "ratings_df.groupBy(f.col(\"movieId\"))\\\n",
    "    .agg(f.avg(f.col(\"rating\")).alias(\"avg_rating\"))\\\n",
    "    .orderBy(\"avg_rating\", ascending=False)\\\n",
    "    .show(100)\n",
    "    "
   ]
  },
  {
   "cell_type": "markdown",
   "id": "e1442d67-553d-4bef-b18b-0de1eea6c5e3",
   "metadata": {},
   "source": [
    "Посчитать разницу во времени в секундах между временем тегирования пользователя данного фильма и временем, когда пользователь поставил оценку фильму. В качестве ответа выведете среднюю дельту по времени"
   ]
  },
  {
   "cell_type": "code",
   "execution_count": 17,
   "id": "1ebfd66f-3955-43b0-9fac-25090f35221a",
   "metadata": {},
   "outputs": [],
   "source": [
    "ratings_with_tags_df = ratings_df.alias(\"r\").join(tags_df.alias(\"t\"), on=[\"userId\", \"movieId\"], how=\"inner\")"
   ]
  },
  {
   "cell_type": "code",
   "execution_count": 18,
   "id": "91f82a69-d49e-4148-b005-536e21e19b64",
   "metadata": {},
   "outputs": [
    {
     "name": "stdout",
     "output_type": "stream",
     "text": [
      "root\n",
      " |-- userId: integer (nullable = true)\n",
      " |-- movieId: integer (nullable = true)\n",
      " |-- rating: double (nullable = true)\n",
      " |-- timestamp: long (nullable = true)\n",
      " |-- tag: string (nullable = true)\n",
      " |-- timestamp: long (nullable = true)\n",
      "\n"
     ]
    }
   ],
   "source": [
    "ratings_with_tags_df.printSchema()"
   ]
  },
  {
   "cell_type": "code",
   "execution_count": 42,
   "id": "ac65694f-7215-488d-9a2b-2520bdef5b01",
   "metadata": {},
   "outputs": [],
   "source": [
    "ratings_with_tags_with_delta = ratings_with_tags_df\\\n",
    "    .withColumn(\"delta\", f.abs(f.col(\"r.timestamp\")-f.col(\"t.timestamp\")))"
   ]
  },
  {
   "cell_type": "code",
   "execution_count": 43,
   "id": "70fd8a03-cb2e-45eb-be13-556d9c9d308e",
   "metadata": {},
   "outputs": [
    {
     "name": "stdout",
     "output_type": "stream",
     "text": [
      "+------+-------+------+----------+-----------------+----------+-----+\n",
      "|userId|movieId|rating| timestamp|              tag| timestamp|delta|\n",
      "+------+-------+------+----------+-----------------+----------+-----+\n",
      "|     2|  60756|   5.0|1445714980|     will ferrell|1445714992|   12|\n",
      "|     2|  60756|   5.0|1445714980|  Highly quotable|1445714996|   16|\n",
      "|     2|  60756|   5.0|1445714980|            funny|1445714994|   14|\n",
      "|     2|  89774|   5.0|1445715189|        Tom Hardy|1445715205|   16|\n",
      "|     2|  89774|   5.0|1445715189|              MMA|1445715200|   11|\n",
      "|     2|  89774|   5.0|1445715189|     Boxing story|1445715207|   18|\n",
      "|     2| 106782|   5.0|1445714966|  Martin Scorsese|1445715056|   90|\n",
      "|     2| 106782|   5.0|1445714966|Leonardo DiCaprio|1445715051|   85|\n",
      "|     2| 106782|   5.0|1445714966|            drugs|1445715054|   88|\n",
      "|     7|  48516|   1.0|1169687318|     way too long|1169687325|    7|\n",
      "+------+-------+------+----------+-----------------+----------+-----+\n",
      "only showing top 10 rows\n",
      "\n"
     ]
    }
   ],
   "source": [
    "ratings_with_tags_with_delta.show(10)"
   ]
  },
  {
   "cell_type": "code",
   "execution_count": 45,
   "id": "6b3b1713-d742-41f9-8e88-d6dd4555ea4c",
   "metadata": {},
   "outputs": [
    {
     "name": "stdout",
     "output_type": "stream",
     "text": [
      "+--------------------+\n",
      "|          avg(delta)|\n",
      "+--------------------+\n",
      "|2.9203715568469506E7|\n",
      "+--------------------+\n",
      "\n"
     ]
    }
   ],
   "source": [
    "ratings_with_tags_with_delta.agg(f.avg(f.col(\"delta\"))).show()"
   ]
  },
  {
   "cell_type": "code",
   "execution_count": null,
   "id": "11adb7eb-6b6c-443d-979e-f2c7c5af16eb",
   "metadata": {},
   "outputs": [],
   "source": []
  },
  {
   "cell_type": "code",
   "execution_count": null,
   "id": "0104c122-c8bc-4508-89a8-76542f271c66",
   "metadata": {},
   "outputs": [],
   "source": []
  },
  {
   "cell_type": "markdown",
   "id": "809bd699-23fd-49c0-bac0-824e0d71a018",
   "metadata": {},
   "source": [
    "Посчитать среднюю оценку от каждого пользователя, в качестве ответа выведете среднее от всех усредненных оценок всех пользователей"
   ]
  },
  {
   "cell_type": "code",
   "execution_count": 40,
   "id": "1706df4b-15da-4c6f-9674-99e9ed2b1252",
   "metadata": {},
   "outputs": [
    {
     "name": "stdout",
     "output_type": "stream",
     "text": [
      "+------------------+\n",
      "|   avg(avg_rating)|\n",
      "+------------------+\n",
      "|3.6572223377474016|\n",
      "+------------------+\n",
      "\n"
     ]
    }
   ],
   "source": [
    "ratings_df.groupBy(f.col(\"userId\"))\\\n",
    "    .agg(f.avg(f.col(\"rating\")).alias(\"avg_rating\"))\\\n",
    "    .agg(f.avg(f.col(\"avg_rating\")))\\\n",
    "    .show()"
   ]
  },
  {
   "cell_type": "code",
   "execution_count": null,
   "id": "b933cadd-5ed5-448e-b019-274f856642a8",
   "metadata": {},
   "outputs": [],
   "source": []
  },
  {
   "cell_type": "markdown",
   "id": "57f7880f-b085-48f8-ab35-e9f522a8a7f0",
   "metadata": {},
   "source": [
    "### UDF"
   ]
  },
  {
   "cell_type": "code",
   "execution_count": 22,
   "id": "2101f24d-9a34-46e3-95c2-5d10fb2203e9",
   "metadata": {},
   "outputs": [],
   "source": [
    "import pandas as pd\n",
    "import numpy as np\n",
    "from sklearn.feature_extraction.text import TfidfVectorizer\n",
    "from sklearn.linear_model import SGDRegressor"
   ]
  },
  {
   "cell_type": "code",
   "execution_count": 20,
   "id": "d649c78c-ab71-4035-9c4a-b5ffe3c9fa28",
   "metadata": {},
   "outputs": [],
   "source": [
    "df = ratings_with_tags_df.toPandas()"
   ]
  },
  {
   "cell_type": "code",
   "execution_count": 21,
   "id": "093962f6-c4ca-48f4-8892-8421c49b0830",
   "metadata": {},
   "outputs": [
    {
     "data": {
      "text/html": [
       "<div>\n",
       "<style scoped>\n",
       "    .dataframe tbody tr th:only-of-type {\n",
       "        vertical-align: middle;\n",
       "    }\n",
       "\n",
       "    .dataframe tbody tr th {\n",
       "        vertical-align: top;\n",
       "    }\n",
       "\n",
       "    .dataframe thead th {\n",
       "        text-align: right;\n",
       "    }\n",
       "</style>\n",
       "<table border=\"1\" class=\"dataframe\">\n",
       "  <thead>\n",
       "    <tr style=\"text-align: right;\">\n",
       "      <th></th>\n",
       "      <th>userId</th>\n",
       "      <th>movieId</th>\n",
       "      <th>rating</th>\n",
       "      <th>timestamp</th>\n",
       "      <th>tag</th>\n",
       "      <th>timestamp</th>\n",
       "    </tr>\n",
       "  </thead>\n",
       "  <tbody>\n",
       "    <tr>\n",
       "      <th>0</th>\n",
       "      <td>2</td>\n",
       "      <td>60756</td>\n",
       "      <td>5.0</td>\n",
       "      <td>1445714980</td>\n",
       "      <td>will ferrell</td>\n",
       "      <td>1445714992</td>\n",
       "    </tr>\n",
       "    <tr>\n",
       "      <th>1</th>\n",
       "      <td>2</td>\n",
       "      <td>60756</td>\n",
       "      <td>5.0</td>\n",
       "      <td>1445714980</td>\n",
       "      <td>Highly quotable</td>\n",
       "      <td>1445714996</td>\n",
       "    </tr>\n",
       "    <tr>\n",
       "      <th>2</th>\n",
       "      <td>2</td>\n",
       "      <td>60756</td>\n",
       "      <td>5.0</td>\n",
       "      <td>1445714980</td>\n",
       "      <td>funny</td>\n",
       "      <td>1445714994</td>\n",
       "    </tr>\n",
       "    <tr>\n",
       "      <th>3</th>\n",
       "      <td>2</td>\n",
       "      <td>89774</td>\n",
       "      <td>5.0</td>\n",
       "      <td>1445715189</td>\n",
       "      <td>Tom Hardy</td>\n",
       "      <td>1445715205</td>\n",
       "    </tr>\n",
       "    <tr>\n",
       "      <th>4</th>\n",
       "      <td>2</td>\n",
       "      <td>89774</td>\n",
       "      <td>5.0</td>\n",
       "      <td>1445715189</td>\n",
       "      <td>MMA</td>\n",
       "      <td>1445715200</td>\n",
       "    </tr>\n",
       "  </tbody>\n",
       "</table>\n",
       "</div>"
      ],
      "text/plain": [
       "   userId  movieId  rating   timestamp              tag   timestamp\n",
       "0       2    60756     5.0  1445714980     will ferrell  1445714992\n",
       "1       2    60756     5.0  1445714980  Highly quotable  1445714996\n",
       "2       2    60756     5.0  1445714980            funny  1445714994\n",
       "3       2    89774     5.0  1445715189        Tom Hardy  1445715205\n",
       "4       2    89774     5.0  1445715189              MMA  1445715200"
      ]
     },
     "execution_count": 21,
     "metadata": {},
     "output_type": "execute_result"
    }
   ],
   "source": [
    "df.head(5)"
   ]
  },
  {
   "cell_type": "code",
   "execution_count": 23,
   "id": "2712c2f7-5f3e-49ad-a3df-62271a4d44ff",
   "metadata": {},
   "outputs": [
    {
     "data": {
      "text/html": [
       "<style>#sk-container-id-1 {color: black;}#sk-container-id-1 pre{padding: 0;}#sk-container-id-1 div.sk-toggleable {background-color: white;}#sk-container-id-1 label.sk-toggleable__label {cursor: pointer;display: block;width: 100%;margin-bottom: 0;padding: 0.3em;box-sizing: border-box;text-align: center;}#sk-container-id-1 label.sk-toggleable__label-arrow:before {content: \"▸\";float: left;margin-right: 0.25em;color: #696969;}#sk-container-id-1 label.sk-toggleable__label-arrow:hover:before {color: black;}#sk-container-id-1 div.sk-estimator:hover label.sk-toggleable__label-arrow:before {color: black;}#sk-container-id-1 div.sk-toggleable__content {max-height: 0;max-width: 0;overflow: hidden;text-align: left;background-color: #f0f8ff;}#sk-container-id-1 div.sk-toggleable__content pre {margin: 0.2em;color: black;border-radius: 0.25em;background-color: #f0f8ff;}#sk-container-id-1 input.sk-toggleable__control:checked~div.sk-toggleable__content {max-height: 200px;max-width: 100%;overflow: auto;}#sk-container-id-1 input.sk-toggleable__control:checked~label.sk-toggleable__label-arrow:before {content: \"▾\";}#sk-container-id-1 div.sk-estimator input.sk-toggleable__control:checked~label.sk-toggleable__label {background-color: #d4ebff;}#sk-container-id-1 div.sk-label input.sk-toggleable__control:checked~label.sk-toggleable__label {background-color: #d4ebff;}#sk-container-id-1 input.sk-hidden--visually {border: 0;clip: rect(1px 1px 1px 1px);clip: rect(1px, 1px, 1px, 1px);height: 1px;margin: -1px;overflow: hidden;padding: 0;position: absolute;width: 1px;}#sk-container-id-1 div.sk-estimator {font-family: monospace;background-color: #f0f8ff;border: 1px dotted black;border-radius: 0.25em;box-sizing: border-box;margin-bottom: 0.5em;}#sk-container-id-1 div.sk-estimator:hover {background-color: #d4ebff;}#sk-container-id-1 div.sk-parallel-item::after {content: \"\";width: 100%;border-bottom: 1px solid gray;flex-grow: 1;}#sk-container-id-1 div.sk-label:hover label.sk-toggleable__label {background-color: #d4ebff;}#sk-container-id-1 div.sk-serial::before {content: \"\";position: absolute;border-left: 1px solid gray;box-sizing: border-box;top: 0;bottom: 0;left: 50%;z-index: 0;}#sk-container-id-1 div.sk-serial {display: flex;flex-direction: column;align-items: center;background-color: white;padding-right: 0.2em;padding-left: 0.2em;position: relative;}#sk-container-id-1 div.sk-item {position: relative;z-index: 1;}#sk-container-id-1 div.sk-parallel {display: flex;align-items: stretch;justify-content: center;background-color: white;position: relative;}#sk-container-id-1 div.sk-item::before, #sk-container-id-1 div.sk-parallel-item::before {content: \"\";position: absolute;border-left: 1px solid gray;box-sizing: border-box;top: 0;bottom: 0;left: 50%;z-index: -1;}#sk-container-id-1 div.sk-parallel-item {display: flex;flex-direction: column;z-index: 1;position: relative;background-color: white;}#sk-container-id-1 div.sk-parallel-item:first-child::after {align-self: flex-end;width: 50%;}#sk-container-id-1 div.sk-parallel-item:last-child::after {align-self: flex-start;width: 50%;}#sk-container-id-1 div.sk-parallel-item:only-child::after {width: 0;}#sk-container-id-1 div.sk-dashed-wrapped {border: 1px dashed gray;margin: 0 0.4em 0.5em 0.4em;box-sizing: border-box;padding-bottom: 0.4em;background-color: white;}#sk-container-id-1 div.sk-label label {font-family: monospace;font-weight: bold;display: inline-block;line-height: 1.2em;}#sk-container-id-1 div.sk-label-container {text-align: center;}#sk-container-id-1 div.sk-container {/* jupyter's `normalize.less` sets `[hidden] { display: none; }` but bootstrap.min.css set `[hidden] { display: none !important; }` so we also need the `!important` here to be able to override the default hidden behavior on the sphinx rendered scikit-learn.org. See: https://github.com/scikit-learn/scikit-learn/issues/21755 */display: inline-block !important;position: relative;}#sk-container-id-1 div.sk-text-repr-fallback {display: none;}</style><div id=\"sk-container-id-1\" class=\"sk-top-container\"><div class=\"sk-text-repr-fallback\"><pre>TfidfVectorizer()</pre><b>In a Jupyter environment, please rerun this cell to show the HTML representation or trust the notebook. <br />On GitHub, the HTML representation is unable to render, please try loading this page with nbviewer.org.</b></div><div class=\"sk-container\" hidden><div class=\"sk-item\"><div class=\"sk-estimator sk-toggleable\"><input class=\"sk-toggleable__control sk-hidden--visually\" id=\"sk-estimator-id-1\" type=\"checkbox\" checked><label for=\"sk-estimator-id-1\" class=\"sk-toggleable__label sk-toggleable__label-arrow\">TfidfVectorizer</label><div class=\"sk-toggleable__content\"><pre>TfidfVectorizer()</pre></div></div></div></div></div>"
      ],
      "text/plain": [
       "TfidfVectorizer()"
      ]
     },
     "execution_count": 23,
     "metadata": {},
     "output_type": "execute_result"
    }
   ],
   "source": [
    "vectorizer = TfidfVectorizer()\n",
    "vectorizer.fit(df['tag'])"
   ]
  },
  {
   "cell_type": "code",
   "execution_count": 24,
   "id": "d0d3e90d-9ff7-44b6-b45d-f56d8bce65eb",
   "metadata": {},
   "outputs": [],
   "source": [
    "train_data = vectorizer.transform(df['tag'])"
   ]
  },
  {
   "cell_type": "code",
   "execution_count": 26,
   "id": "edc7f455-8bd2-4130-add2-23c5667e5920",
   "metadata": {},
   "outputs": [
    {
     "data": {
      "text/html": [
       "<style>#sk-container-id-2 {color: black;}#sk-container-id-2 pre{padding: 0;}#sk-container-id-2 div.sk-toggleable {background-color: white;}#sk-container-id-2 label.sk-toggleable__label {cursor: pointer;display: block;width: 100%;margin-bottom: 0;padding: 0.3em;box-sizing: border-box;text-align: center;}#sk-container-id-2 label.sk-toggleable__label-arrow:before {content: \"▸\";float: left;margin-right: 0.25em;color: #696969;}#sk-container-id-2 label.sk-toggleable__label-arrow:hover:before {color: black;}#sk-container-id-2 div.sk-estimator:hover label.sk-toggleable__label-arrow:before {color: black;}#sk-container-id-2 div.sk-toggleable__content {max-height: 0;max-width: 0;overflow: hidden;text-align: left;background-color: #f0f8ff;}#sk-container-id-2 div.sk-toggleable__content pre {margin: 0.2em;color: black;border-radius: 0.25em;background-color: #f0f8ff;}#sk-container-id-2 input.sk-toggleable__control:checked~div.sk-toggleable__content {max-height: 200px;max-width: 100%;overflow: auto;}#sk-container-id-2 input.sk-toggleable__control:checked~label.sk-toggleable__label-arrow:before {content: \"▾\";}#sk-container-id-2 div.sk-estimator input.sk-toggleable__control:checked~label.sk-toggleable__label {background-color: #d4ebff;}#sk-container-id-2 div.sk-label input.sk-toggleable__control:checked~label.sk-toggleable__label {background-color: #d4ebff;}#sk-container-id-2 input.sk-hidden--visually {border: 0;clip: rect(1px 1px 1px 1px);clip: rect(1px, 1px, 1px, 1px);height: 1px;margin: -1px;overflow: hidden;padding: 0;position: absolute;width: 1px;}#sk-container-id-2 div.sk-estimator {font-family: monospace;background-color: #f0f8ff;border: 1px dotted black;border-radius: 0.25em;box-sizing: border-box;margin-bottom: 0.5em;}#sk-container-id-2 div.sk-estimator:hover {background-color: #d4ebff;}#sk-container-id-2 div.sk-parallel-item::after {content: \"\";width: 100%;border-bottom: 1px solid gray;flex-grow: 1;}#sk-container-id-2 div.sk-label:hover label.sk-toggleable__label {background-color: #d4ebff;}#sk-container-id-2 div.sk-serial::before {content: \"\";position: absolute;border-left: 1px solid gray;box-sizing: border-box;top: 0;bottom: 0;left: 50%;z-index: 0;}#sk-container-id-2 div.sk-serial {display: flex;flex-direction: column;align-items: center;background-color: white;padding-right: 0.2em;padding-left: 0.2em;position: relative;}#sk-container-id-2 div.sk-item {position: relative;z-index: 1;}#sk-container-id-2 div.sk-parallel {display: flex;align-items: stretch;justify-content: center;background-color: white;position: relative;}#sk-container-id-2 div.sk-item::before, #sk-container-id-2 div.sk-parallel-item::before {content: \"\";position: absolute;border-left: 1px solid gray;box-sizing: border-box;top: 0;bottom: 0;left: 50%;z-index: -1;}#sk-container-id-2 div.sk-parallel-item {display: flex;flex-direction: column;z-index: 1;position: relative;background-color: white;}#sk-container-id-2 div.sk-parallel-item:first-child::after {align-self: flex-end;width: 50%;}#sk-container-id-2 div.sk-parallel-item:last-child::after {align-self: flex-start;width: 50%;}#sk-container-id-2 div.sk-parallel-item:only-child::after {width: 0;}#sk-container-id-2 div.sk-dashed-wrapped {border: 1px dashed gray;margin: 0 0.4em 0.5em 0.4em;box-sizing: border-box;padding-bottom: 0.4em;background-color: white;}#sk-container-id-2 div.sk-label label {font-family: monospace;font-weight: bold;display: inline-block;line-height: 1.2em;}#sk-container-id-2 div.sk-label-container {text-align: center;}#sk-container-id-2 div.sk-container {/* jupyter's `normalize.less` sets `[hidden] { display: none; }` but bootstrap.min.css set `[hidden] { display: none !important; }` so we also need the `!important` here to be able to override the default hidden behavior on the sphinx rendered scikit-learn.org. See: https://github.com/scikit-learn/scikit-learn/issues/21755 */display: inline-block !important;position: relative;}#sk-container-id-2 div.sk-text-repr-fallback {display: none;}</style><div id=\"sk-container-id-2\" class=\"sk-top-container\"><div class=\"sk-text-repr-fallback\"><pre>SGDRegressor()</pre><b>In a Jupyter environment, please rerun this cell to show the HTML representation or trust the notebook. <br />On GitHub, the HTML representation is unable to render, please try loading this page with nbviewer.org.</b></div><div class=\"sk-container\" hidden><div class=\"sk-item\"><div class=\"sk-estimator sk-toggleable\"><input class=\"sk-toggleable__control sk-hidden--visually\" id=\"sk-estimator-id-2\" type=\"checkbox\" checked><label for=\"sk-estimator-id-2\" class=\"sk-toggleable__label sk-toggleable__label-arrow\">SGDRegressor</label><div class=\"sk-toggleable__content\"><pre>SGDRegressor()</pre></div></div></div></div></div>"
      ],
      "text/plain": [
       "SGDRegressor()"
      ]
     },
     "execution_count": 26,
     "metadata": {},
     "output_type": "execute_result"
    }
   ],
   "source": [
    "model = SGDRegressor()\n",
    "model.fit(train_data, df['rating'])"
   ]
  },
  {
   "cell_type": "code",
   "execution_count": 30,
   "id": "c5948ab8-f24e-493a-a9f0-e414e3cc22d8",
   "metadata": {},
   "outputs": [],
   "source": [
    "@f.pandas_udf(DoubleType())\n",
    "def predict_ratings(tags):\n",
    "    x = vectorizer.transform(tags)\n",
    "    preds = model.predict(x)\n",
    "    return pd.Series(preds)"
   ]
  },
  {
   "cell_type": "code",
   "execution_count": 31,
   "id": "b56de0ea-3d9d-4bd9-aa0a-42d3ca7c82ae",
   "metadata": {},
   "outputs": [],
   "source": [
    "ratings_with_tags_with_preds_df = ratings_with_tags_df\\\n",
    "    .withColumn(\"rating_preds\", predict_ratings(f.col(\"tag\")))"
   ]
  },
  {
   "cell_type": "code",
   "execution_count": 33,
   "id": "901269e5-7138-4efe-9429-5ba159fef61f",
   "metadata": {},
   "outputs": [
    {
     "name": "stdout",
     "output_type": "stream",
     "text": [
      "+------+-------+------+----------+--------------------+----------+------------------+\n",
      "|userId|movieId|rating| timestamp|                 tag| timestamp|      rating_preds|\n",
      "+------+-------+------+----------+--------------------+----------+------------------+\n",
      "|     2|  60756|   5.0|1445714980|        will ferrell|1445714992| 4.032122189669142|\n",
      "|     2|  60756|   5.0|1445714980|     Highly quotable|1445714996|3.9559852532668316|\n",
      "|     2|  60756|   5.0|1445714980|               funny|1445714994| 4.364923768204213|\n",
      "|     2|  89774|   5.0|1445715189|           Tom Hardy|1445715205| 3.836038182349565|\n",
      "|     2|  89774|   5.0|1445715189|                 MMA|1445715200|3.4225334899277384|\n",
      "|     2|  89774|   5.0|1445715189|        Boxing story|1445715207| 3.929673986529705|\n",
      "|     2| 106782|   5.0|1445714966|     Martin Scorsese|1445715056|3.8497575356777594|\n",
      "|     2| 106782|   5.0|1445714966|   Leonardo DiCaprio|1445715051|  4.24108949086816|\n",
      "|     2| 106782|   5.0|1445714966|               drugs|1445715054|4.2898391468599275|\n",
      "|     7|  48516|   1.0|1169687318|        way too long|1169687325|3.4328804370818227|\n",
      "|    18|    431|   4.0|1462138790|               mafia|1462138755| 4.158150845656969|\n",
      "|    18|    431|   4.0|1462138790|            gangster|1462138749| 3.623730316875493|\n",
      "|    18|    431|   4.0|1462138790|           Al Pacino|1462138765| 3.857874906892645|\n",
      "|    18|   1221|   5.0|1460242083|               Mafia|1461699303| 4.158150845656969|\n",
      "|    18|   1221|   5.0|1460242083|           Al Pacino|1461699306| 3.857874906892645|\n",
      "|    18|   5995|   4.5|1455735416|          true story|1455735479|3.8578517564844077|\n",
      "|    18|   5995|   4.5|1455735416|           holocaust|1455735472|3.9766209172425713|\n",
      "|    18|  44665|   4.5|1455049870|        twist ending|1456948283| 4.842604110473278|\n",
      "|    18|  52604|   4.5|1457650649|        twist ending|1457650682| 4.842604110473278|\n",
      "|    18|  52604|   4.5|1457650649|     courtroom drama|1457650711|3.8403325278432283|\n",
      "|    18|  52604|   4.5|1457650649|     Anthony Hopkins|1457650696|3.3845754342161563|\n",
      "|    18|  88094|   3.0|1457352482|               music|1457444609| 4.295613009606852|\n",
      "|    18|  88094|   3.0|1457352482|  indie record label|1457444592|3.2703392302846854|\n",
      "|    18|  88094|   3.0|1457352482|             britpop|1457444500| 3.270309727406606|\n",
      "|    18| 144210|   4.0|1455060282|      Sustainability|1455060452|3.3455587194924203|\n",
      "|    18| 144210|   4.0|1455060282|     dumpster diving|1455060381|3.3458784005973436|\n",
      "|    21| 119141|   0.5|1419793939|              bloody|1419793962| 3.534275178273229|\n",
      "|    49| 109487|   4.5|1493093231|         time-travel|1493093356| 4.231106139817193|\n",
      "|    49| 109487|   4.5|1493093231|              sci-fi|1493093332| 4.295237102687118|\n",
      "|    49| 109487|   4.5|1493093231|          black hole|1493093306|3.8547599979679936|\n",
      "|    62|      2|   4.0|1528843890|      Robin Williams|1528843907| 3.699770054226899|\n",
      "|    62|      2|   4.0|1528843890|    magic board game|1528843932| 3.751623596855972|\n",
      "|    62|      2|   4.0|1528843890|             fantasy|1528843929|3.9330939031118066|\n",
      "|    62|    110|   4.5|1521822303|         sword fight|1528152535| 3.384069634633668|\n",
      "|    62|    110|   4.5|1521822303|             revenge|1528152531| 4.170281518541463|\n",
      "|    62|    110|   4.5|1521822303|Oscar (Best Cinem...|1528152539| 4.344893237898121|\n",
      "|    62|    110|   4.5|1521822303|          mel gibson|1528152521| 3.419766598462569|\n",
      "|    62|    110|   4.5|1521822303|            Medieval|1528152528|3.3840746854062633|\n",
      "|    62|    110|   4.5|1521822303|       inspirational|1528152527|3.8064252491494073|\n",
      "|    62|    110|   4.5|1521822303|          historical|1528152523| 3.383390249547741|\n",
      "|    62|    110|   4.5|1521822303|                epic|1528152532| 3.963474955985588|\n",
      "|    62|    110|   4.5|1521822303|   beautiful scenery|1528152541| 4.003608645560531|\n",
      "|    62|    410|   4.5|1525636601|              gothic|1525636609|3.8593930857375094|\n",
      "|    62|    410|   4.5|1525636601|              family|1525636708|  4.11545945348817|\n",
      "|    62|    410|   4.5|1525636601|         dark comedy|1525636610| 4.895973777745354|\n",
      "|    62|    410|   4.5|1525636601|   Christopher Lloyd|1525636622| 3.752266052357791|\n",
      "|    62|    410|   4.5|1525636601|     Christina Ricci|1525636685|3.5694330719829486|\n",
      "|    62|    410|   4.5|1525636601|        black comedy|1525636607|  4.63776243245926|\n",
      "|    62|   2023|   5.0|1525636725|               mafia|1525636733| 4.158150845656969|\n",
      "|    62|   2023|   5.0|1525636725|Francis Ford Coppola|1525636752| 3.540229200198749|\n",
      "+------+-------+------+----------+--------------------+----------+------------------+\n",
      "only showing top 50 rows\n",
      "\n"
     ]
    }
   ],
   "source": [
    "ratings_with_tags_with_preds_df.show(50)"
   ]
  },
  {
   "cell_type": "markdown",
   "id": "f677e87e-abc3-46d5-af47-b524d9e39ceb",
   "metadata": {},
   "source": [
    "RMSE"
   ]
  },
  {
   "cell_type": "code",
   "execution_count": 50,
   "id": "4d9a07f8-6d75-4139-836e-9a2e7cf5c04b",
   "metadata": {},
   "outputs": [
    {
     "name": "stdout",
     "output_type": "stream",
     "text": [
      "+------------------+\n",
      "|              rmse|\n",
      "+------------------+\n",
      "|0.8734549959717768|\n",
      "+------------------+\n",
      "\n"
     ]
    }
   ],
   "source": [
    "ratings_with_tags_with_preds_df\\\n",
    "    .withColumn(\"se\", np.square(f.col(\"rating\")-f.col(\"rating_preds\")))\\\n",
    "    .agg(f.sqrt(f.mean(f.col(\"se\"))).alias(\"rmse\"))\\\n",
    "    .show()"
   ]
  },
  {
   "cell_type": "markdown",
   "id": "b1f9049c-4e59-458f-a787-8be5e4757166",
   "metadata": {},
   "source": [
    "Было выполнено 2 стейджа, 2 таски"
   ]
  },
  {
   "cell_type": "code",
   "execution_count": null,
   "id": "380c8580-a072-4611-a89e-52e8bbf6de38",
   "metadata": {},
   "outputs": [],
   "source": []
  },
  {
   "cell_type": "code",
   "execution_count": null,
   "id": "ae0c2388-76aa-4406-9c94-0fa60304be4e",
   "metadata": {},
   "outputs": [],
   "source": []
  }
 ],
 "metadata": {
  "kernelspec": {
   "display_name": "Python 3 (ipykernel)",
   "language": "python",
   "name": "python3"
  },
  "language_info": {
   "codemirror_mode": {
    "name": "ipython",
    "version": 3
   },
   "file_extension": ".py",
   "mimetype": "text/x-python",
   "name": "python",
   "nbconvert_exporter": "python",
   "pygments_lexer": "ipython3",
   "version": "3.10.12"
  }
 },
 "nbformat": 4,
 "nbformat_minor": 5
}
