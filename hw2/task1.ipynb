{
 "cells": [
  {
   "cell_type": "code",
   "execution_count": 1,
   "id": "08022c11-54f7-46cd-901b-928fed71f612",
   "metadata": {},
   "outputs": [],
   "source": [
    "import pyspark"
   ]
  },
  {
   "cell_type": "code",
   "execution_count": 2,
   "id": "9b6558e0-e2d4-4778-89d5-b1fe9c2eef1e",
   "metadata": {},
   "outputs": [],
   "source": [
    "from pyspark import SparkContext, SparkConf"
   ]
  },
  {
   "cell_type": "code",
   "execution_count": 2,
   "id": "11245422-d02f-45ae-968b-978446b4d181",
   "metadata": {},
   "outputs": [
    {
     "name": "stdout",
     "output_type": "stream",
     "text": [
      "Safe mode is OFF\n"
     ]
    }
   ],
   "source": [
    "!hdfs dfsadmin -safemode leave"
   ]
  },
  {
   "cell_type": "code",
   "execution_count": 11,
   "id": "297bdab7-958b-4515-8117-335443303150",
   "metadata": {},
   "outputs": [],
   "source": [
    "!hdfs dfs -put ../ml-latest-small /"
   ]
  },
  {
   "cell_type": "code",
   "execution_count": 3,
   "id": "61c74f05-5143-4390-a753-b8b35d2cf15d",
   "metadata": {},
   "outputs": [
    {
     "name": "stdout",
     "output_type": "stream",
     "text": [
      "Found 5 items\n",
      "-rw-r--r--   3 root supergroup       8342 2023-12-10 22:02 /ml-latest-small/README.txt\n",
      "-rw-r--r--   3 root supergroup     197979 2023-12-10 22:02 /ml-latest-small/links.csv\n",
      "-rw-r--r--   3 root supergroup     494431 2023-12-10 22:02 /ml-latest-small/movies.csv\n",
      "-rw-r--r--   3 root supergroup    2483723 2023-12-10 22:02 /ml-latest-small/ratings.csv\n",
      "-rw-r--r--   3 root supergroup     118660 2023-12-10 22:02 /ml-latest-small/tags.csv\n"
     ]
    }
   ],
   "source": [
    "!hdfs dfs -ls /ml-latest-small"
   ]
  },
  {
   "cell_type": "code",
   "execution_count": 4,
   "id": "eaa91cab-b01a-430e-8f43-d754e144f085",
   "metadata": {},
   "outputs": [],
   "source": [
    "conf = SparkConf().set(\"spark.executor.instances\", \"2\").set(\"spark.executor.cores\", \"1\").set(\"spark.executor.memory\", \"1g\")"
   ]
  },
  {
   "cell_type": "code",
   "execution_count": 5,
   "id": "7862a77d-2c5b-4da5-adf2-76d3aa506346",
   "metadata": {},
   "outputs": [],
   "source": [
    "from pyspark.sql import SparkSession"
   ]
  },
  {
   "cell_type": "code",
   "execution_count": 6,
   "id": "4f0702f2-506f-4743-a8b0-31c939f09f34",
   "metadata": {},
   "outputs": [
    {
     "name": "stderr",
     "output_type": "stream",
     "text": [
      "Setting default log level to \"WARN\".\n",
      "To adjust logging level use sc.setLogLevel(newLevel). For SparkR, use setLogLevel(newLevel).\n",
      "23/12/11 01:58:41 WARN Client: Neither spark.yarn.jars nor spark.yarn.archive is set, falling back to uploading libraries under SPARK_HOME.\n"
     ]
    }
   ],
   "source": [
    "spark = SparkSession.builder.master(\"yarn\").appName(\"danyaev_spark\").getOrCreate()"
   ]
  },
  {
   "cell_type": "code",
   "execution_count": 7,
   "id": "67e35e1d-9694-456e-aa96-262588cd1c2b",
   "metadata": {},
   "outputs": [
    {
     "data": {
      "text/html": [
       "\n",
       "            <div>\n",
       "                <p><b>SparkSession - in-memory</b></p>\n",
       "                \n",
       "        <div>\n",
       "            <p><b>SparkContext</b></p>\n",
       "\n",
       "            <p><a href=\"http://f28eedc25d65:4040\">Spark UI</a></p>\n",
       "\n",
       "            <dl>\n",
       "              <dt>Version</dt>\n",
       "                <dd><code>v3.5.0</code></dd>\n",
       "              <dt>Master</dt>\n",
       "                <dd><code>yarn</code></dd>\n",
       "              <dt>AppName</dt>\n",
       "                <dd><code>danyaev_spark</code></dd>\n",
       "            </dl>\n",
       "        </div>\n",
       "        \n",
       "            </div>\n",
       "        "
      ],
      "text/plain": [
       "<pyspark.sql.session.SparkSession at 0x7f52e1c428c0>"
      ]
     },
     "execution_count": 7,
     "metadata": {},
     "output_type": "execute_result"
    }
   ],
   "source": [
    "spark"
   ]
  },
  {
   "cell_type": "code",
   "execution_count": 9,
   "id": "ee6bfc9c-01c0-439e-9cce-34db8f78ac3a",
   "metadata": {},
   "outputs": [],
   "source": [
    "from pyspark.sql.types import *"
   ]
  },
  {
   "cell_type": "code",
   "execution_count": 12,
   "id": "e71de823-cb07-4ee9-a08a-238824139d04",
   "metadata": {},
   "outputs": [],
   "source": [
    "ratings_schema = StructType(fields=[\n",
    "    StructField(\"userId\", IntegerType()),\n",
    "    StructField(\"movieId\", IntegerType()),\n",
    "    StructField(\"rating\", DoubleType()),\n",
    "    StructField(\"timestamp\", LongType()),\n",
    "])"
   ]
  },
  {
   "cell_type": "code",
   "execution_count": 13,
   "id": "a291a6bd-f190-4477-a8a7-522b8df4b2c2",
   "metadata": {},
   "outputs": [],
   "source": [
    "ratings_df = spark\\\n",
    "    .read\\\n",
    "    .format(\"csv\")\\\n",
    "    .option(\"header\", \"True\")\\\n",
    "    .schema(ratings_schema)\\\n",
    "    .load(\"/ml-latest-small/ratings.csv\")"
   ]
  },
  {
   "cell_type": "code",
   "execution_count": 15,
   "id": "6f33cbca-5df4-4171-b1f8-29522cd9fea4",
   "metadata": {},
   "outputs": [
    {
     "data": {
      "text/plain": [
       "DataFrame[userId: int, movieId: int, rating: double, timestamp: bigint]"
      ]
     },
     "execution_count": 15,
     "metadata": {},
     "output_type": "execute_result"
    }
   ],
   "source": [
    "ratings_df"
   ]
  },
  {
   "cell_type": "code",
   "execution_count": 20,
   "id": "33c916e8-aa09-4981-a185-5741994bf41b",
   "metadata": {},
   "outputs": [
    {
     "data": {
      "text/plain": [
       "100836"
      ]
     },
     "execution_count": 20,
     "metadata": {},
     "output_type": "execute_result"
    }
   ],
   "source": [
    "ratings_df.count()"
   ]
  },
  {
   "cell_type": "markdown",
   "id": "d50504df-09eb-483a-af2c-f9f73a039062",
   "metadata": {},
   "source": [
    "1 stage, 1 task"
   ]
  },
  {
   "cell_type": "code",
   "execution_count": 16,
   "id": "ef5409d2-4fe8-4bd4-87ec-33a98c048e30",
   "metadata": {},
   "outputs": [],
   "source": [
    "tags_schema = StructType([\n",
    "    StructField(\"userId\", IntegerType(), True), \n",
    "    StructField(\"movieId\", IntegerType(), True), \n",
    "    StructField(\"tag\", StringType(), True), \n",
    "    StructField(\"timestamp\", LongType(), True)])"
   ]
  },
  {
   "cell_type": "code",
   "execution_count": 17,
   "id": "eac6f14e-9365-42df-88b6-77d3fad51442",
   "metadata": {},
   "outputs": [],
   "source": [
    "tags_df = spark.read.csv(\"/ml-latest-small/tags.csv\", header=True, schema=tags_schema)"
   ]
  },
  {
   "cell_type": "code",
   "execution_count": 18,
   "id": "b33e3eeb-8178-48b3-8ca3-7ce54559fe38",
   "metadata": {},
   "outputs": [
    {
     "data": {
      "text/plain": [
       "DataFrame[userId: int, movieId: int, tag: string, timestamp: bigint]"
      ]
     },
     "execution_count": 18,
     "metadata": {},
     "output_type": "execute_result"
    }
   ],
   "source": [
    "tags_df"
   ]
  },
  {
   "cell_type": "code",
   "execution_count": 19,
   "id": "d4db0ea6-099c-4b6c-a01d-a8c5d747db30",
   "metadata": {},
   "outputs": [
    {
     "data": {
      "text/plain": [
       "3683"
      ]
     },
     "execution_count": 19,
     "metadata": {},
     "output_type": "execute_result"
    }
   ],
   "source": [
    "tags_df.count()"
   ]
  },
  {
   "cell_type": "markdown",
   "id": "5a4cef86-ee35-4710-82ad-4fe8fd74404e",
   "metadata": {},
   "source": [
    "1 stage, 1 task"
   ]
  },
  {
   "cell_type": "code",
   "execution_count": null,
   "id": "052055b1-5fcf-435e-9e01-ffced1909e5c",
   "metadata": {},
   "outputs": [],
   "source": []
  },
  {
   "cell_type": "markdown",
   "id": "e13a531e-5ed2-40e0-bcc7-2e44e6dc7a05",
   "metadata": {},
   "source": [
    "Посчитать количество уникальных фильмов и уникальных юзеров в таблице “ratings”"
   ]
  },
  {
   "cell_type": "code",
   "execution_count": 22,
   "id": "0970f9bd-db09-41e3-b98b-7724c96ca357",
   "metadata": {},
   "outputs": [
    {
     "data": {
      "text/plain": [
       "9724"
      ]
     },
     "execution_count": 22,
     "metadata": {},
     "output_type": "execute_result"
    }
   ],
   "source": [
    "ratings_df.select(\"movieId\").distinct().count()"
   ]
  },
  {
   "cell_type": "code",
   "execution_count": 23,
   "id": "e3284254-464b-4602-8484-89d061cfdb77",
   "metadata": {},
   "outputs": [
    {
     "data": {
      "text/plain": [
       "610"
      ]
     },
     "execution_count": 23,
     "metadata": {},
     "output_type": "execute_result"
    }
   ],
   "source": [
    "ratings_df.select(\"userId\").distinct().count()"
   ]
  },
  {
   "cell_type": "markdown",
   "id": "451968bc-37c2-4993-8c38-053d787f27fb",
   "metadata": {},
   "source": [
    "Посчитать, сколько было поставлено оценок >= 4.0"
   ]
  },
  {
   "cell_type": "code",
   "execution_count": 24,
   "id": "50c44915-6e9a-4a5f-9900-5fce59e9d3bb",
   "metadata": {},
   "outputs": [],
   "source": [
    "import pyspark.sql.functions as f"
   ]
  },
  {
   "cell_type": "code",
   "execution_count": 25,
   "id": "e5c2889e-99f7-42a2-879b-50eaa7b3ad14",
   "metadata": {},
   "outputs": [
    {
     "data": {
      "text/plain": [
       "48580"
      ]
     },
     "execution_count": 25,
     "metadata": {},
     "output_type": "execute_result"
    }
   ],
   "source": [
    "ratings_df.select(\"rating\").filter(f.col(\"rating\") >= 4.0).count()"
   ]
  },
  {
   "cell_type": "markdown",
   "id": "b60dcc9f-5ae4-452a-b6e6-75560c1537eb",
   "metadata": {},
   "source": [
    "Вывести топ100 фильмов с самым высоким рейтингом. (6 баллов)"
   ]
  },
  {
   "cell_type": "code",
   "execution_count": 32,
   "id": "6b5e2046-dd0c-4abb-853d-87f459ad2a1c",
   "metadata": {},
   "outputs": [
    {
     "name": "stdout",
     "output_type": "stream",
     "text": [
      "+-------+----------+\n",
      "|movieId|avg_rating|\n",
      "+-------+----------+\n",
      "|  80124|       5.0|\n",
      "|  74226|       5.0|\n",
      "| 175387|       5.0|\n",
      "|    148|       5.0|\n",
      "| 158027|       5.0|\n",
      "|  67618|       5.0|\n",
      "|  42556|       5.0|\n",
      "| 142444|       5.0|\n",
      "|  44943|       5.0|\n",
      "|  27523|       5.0|\n",
      "| 113829|       5.0|\n",
      "|   3073|       5.0|\n",
      "| 152711|       5.0|\n",
      "| 132333|       5.0|\n",
      "|     53|       5.0|\n",
      "|  27704|       5.0|\n",
      "| 147300|       5.0|\n",
      "| 187717|       5.0|\n",
      "|    633|       5.0|\n",
      "|   8238|       5.0|\n",
      "|    876|       5.0|\n",
      "| 120138|       5.0|\n",
      "|  53578|       5.0|\n",
      "| 163072|       5.0|\n",
      "| 160644|       5.0|\n",
      "| 172909|       5.0|\n",
      "|   5490|       5.0|\n",
      "| 172583|       5.0|\n",
      "|   2972|       5.0|\n",
      "|   2196|       5.0|\n",
      "|  25887|       5.0|\n",
      "| 118834|       5.0|\n",
      "|   3795|       5.0|\n",
      "| 156025|       5.0|\n",
      "|   3941|       5.0|\n",
      "| 120130|       5.0|\n",
      "|    626|       5.0|\n",
      "|   1349|       5.0|\n",
      "|  26928|       5.0|\n",
      "| 122092|       5.0|\n",
      "|  40491|       5.0|\n",
      "|  71268|       5.0|\n",
      "| 167064|       5.0|\n",
      "|  99636|       5.0|\n",
      "|  25906|       5.0|\n",
      "|   6086|       5.0|\n",
      "| 141928|       5.0|\n",
      "|  47736|       5.0|\n",
      "|   6201|       5.0|\n",
      "| 164367|       5.0|\n",
      "|   3792|       5.0|\n",
      "| 172589|       5.0|\n",
      "| 146684|       5.0|\n",
      "|   3473|       5.0|\n",
      "| 172793|       5.0|\n",
      "|  50999|       5.0|\n",
      "| 136469|       5.0|\n",
      "| 141718|       5.0|\n",
      "| 124851|       5.0|\n",
      "|  85295|       5.0|\n",
      "|   4788|       5.0|\n",
      "| 173619|       5.0|\n",
      "|   6835|       5.0|\n",
      "|   2824|       5.0|\n",
      "|    496|       5.0|\n",
      "|  26147|       5.0|\n",
      "| 157775|       5.0|\n",
      "|   4454|       5.0|\n",
      "|  44851|       5.0|\n",
      "| 104780|       5.0|\n",
      "| 149566|       5.0|\n",
      "|   7096|       5.0|\n",
      "| 109241|       5.0|\n",
      "| 131724|       5.0|\n",
      "|   3567|       5.0|\n",
      "|  69211|       5.0|\n",
      "| 136834|       5.0|\n",
      "| 163925|       5.0|\n",
      "|   3940|       5.0|\n",
      "| 173355|       5.0|\n",
      "|  91386|       5.0|\n",
      "|   7815|       5.0|\n",
      "|   5513|       5.0|\n",
      "| 115727|       5.0|\n",
      "|  84273|       5.0|\n",
      "| 172705|       5.0|\n",
      "|  27373|       5.0|\n",
      "| 109633|       5.0|\n",
      "| 114265|       5.0|\n",
      "| 172875|       5.0|\n",
      "| 163112|       5.0|\n",
      "| 159811|       5.0|\n",
      "|  94810|       5.0|\n",
      "| 147286|       5.0|\n",
      "|  53355|       5.0|\n",
      "|   7122|       5.0|\n",
      "|  69860|       5.0|\n",
      "|  79897|       5.0|\n",
      "|  83969|       5.0|\n",
      "|  95311|       5.0|\n",
      "+-------+----------+\n",
      "only showing top 100 rows\n",
      "\n"
     ]
    }
   ],
   "source": [
    "ratings_df.groupBy(f.col(\"movieId\"))\\\n",
    "    .agg(f.avg(f.col(\"rating\")).alias(\"avg_rating\"))\\\n",
    "    .orderBy(\"avg_rating\", ascending=False)\\\n",
    "    .show(100)\n",
    "    "
   ]
  },
  {
   "cell_type": "markdown",
   "id": "e1442d67-553d-4bef-b18b-0de1eea6c5e3",
   "metadata": {},
   "source": [
    "Посчитать разницу во времени в секундах между временем тегирования пользователя данного фильма и временем, когда пользователь поставил оценку фильму. В качестве ответа выведете среднюю дельту по времени"
   ]
  },
  {
   "cell_type": "code",
   "execution_count": 33,
   "id": "1ebfd66f-3955-43b0-9fac-25090f35221a",
   "metadata": {},
   "outputs": [],
   "source": [
    "ratings_with_tags_df = ratings_df.alias(\"r\").join(tags_df.alias(\"t\"), on=[\"userId\", \"movieId\"], how=\"inner\")"
   ]
  },
  {
   "cell_type": "code",
   "execution_count": 34,
   "id": "91f82a69-d49e-4148-b005-536e21e19b64",
   "metadata": {},
   "outputs": [
    {
     "name": "stdout",
     "output_type": "stream",
     "text": [
      "root\n",
      " |-- userId: integer (nullable = true)\n",
      " |-- movieId: integer (nullable = true)\n",
      " |-- rating: double (nullable = true)\n",
      " |-- timestamp: long (nullable = true)\n",
      " |-- tag: string (nullable = true)\n",
      " |-- timestamp: long (nullable = true)\n",
      "\n"
     ]
    }
   ],
   "source": [
    "ratings_with_tags_df.printSchema()"
   ]
  },
  {
   "cell_type": "code",
   "execution_count": 42,
   "id": "ac65694f-7215-488d-9a2b-2520bdef5b01",
   "metadata": {},
   "outputs": [],
   "source": [
    "ratings_with_tags_with_delta = ratings_with_tags_df\\\n",
    "    .withColumn(\"delta\", f.abs(f.col(\"r.timestamp\")-f.col(\"t.timestamp\")))"
   ]
  },
  {
   "cell_type": "code",
   "execution_count": 43,
   "id": "70fd8a03-cb2e-45eb-be13-556d9c9d308e",
   "metadata": {},
   "outputs": [
    {
     "name": "stdout",
     "output_type": "stream",
     "text": [
      "+------+-------+------+----------+-----------------+----------+-----+\n",
      "|userId|movieId|rating| timestamp|              tag| timestamp|delta|\n",
      "+------+-------+------+----------+-----------------+----------+-----+\n",
      "|     2|  60756|   5.0|1445714980|     will ferrell|1445714992|   12|\n",
      "|     2|  60756|   5.0|1445714980|  Highly quotable|1445714996|   16|\n",
      "|     2|  60756|   5.0|1445714980|            funny|1445714994|   14|\n",
      "|     2|  89774|   5.0|1445715189|        Tom Hardy|1445715205|   16|\n",
      "|     2|  89774|   5.0|1445715189|              MMA|1445715200|   11|\n",
      "|     2|  89774|   5.0|1445715189|     Boxing story|1445715207|   18|\n",
      "|     2| 106782|   5.0|1445714966|  Martin Scorsese|1445715056|   90|\n",
      "|     2| 106782|   5.0|1445714966|Leonardo DiCaprio|1445715051|   85|\n",
      "|     2| 106782|   5.0|1445714966|            drugs|1445715054|   88|\n",
      "|     7|  48516|   1.0|1169687318|     way too long|1169687325|    7|\n",
      "+------+-------+------+----------+-----------------+----------+-----+\n",
      "only showing top 10 rows\n",
      "\n"
     ]
    }
   ],
   "source": [
    "ratings_with_tags_with_delta.show(10)"
   ]
  },
  {
   "cell_type": "code",
   "execution_count": 45,
   "id": "6b3b1713-d742-41f9-8e88-d6dd4555ea4c",
   "metadata": {},
   "outputs": [
    {
     "name": "stdout",
     "output_type": "stream",
     "text": [
      "+--------------------+\n",
      "|          avg(delta)|\n",
      "+--------------------+\n",
      "|2.9203715568469506E7|\n",
      "+--------------------+\n",
      "\n"
     ]
    }
   ],
   "source": [
    "ratings_with_tags_with_delta.agg(f.avg(f.col(\"delta\"))).show()"
   ]
  },
  {
   "cell_type": "code",
   "execution_count": null,
   "id": "11adb7eb-6b6c-443d-979e-f2c7c5af16eb",
   "metadata": {},
   "outputs": [],
   "source": []
  },
  {
   "cell_type": "code",
   "execution_count": null,
   "id": "0104c122-c8bc-4508-89a8-76542f271c66",
   "metadata": {},
   "outputs": [],
   "source": []
  },
  {
   "cell_type": "markdown",
   "id": "809bd699-23fd-49c0-bac0-824e0d71a018",
   "metadata": {},
   "source": [
    "Посчитать среднюю оценку от каждого пользователя, в качестве ответа выведете среднее от всех усредненных оценок всех пользователей"
   ]
  },
  {
   "cell_type": "code",
   "execution_count": 40,
   "id": "1706df4b-15da-4c6f-9674-99e9ed2b1252",
   "metadata": {},
   "outputs": [
    {
     "name": "stdout",
     "output_type": "stream",
     "text": [
      "+------------------+\n",
      "|   avg(avg_rating)|\n",
      "+------------------+\n",
      "|3.6572223377474016|\n",
      "+------------------+\n",
      "\n"
     ]
    }
   ],
   "source": [
    "ratings_df.groupBy(f.col(\"userId\"))\\\n",
    "    .agg(f.avg(f.col(\"rating\")).alias(\"avg_rating\"))\\\n",
    "    .agg(f.avg(f.col(\"avg_rating\")))\\\n",
    "    .show()"
   ]
  },
  {
   "cell_type": "code",
   "execution_count": null,
   "id": "b933cadd-5ed5-448e-b019-274f856642a8",
   "metadata": {},
   "outputs": [],
   "source": []
  }
 ],
 "metadata": {
  "kernelspec": {
   "display_name": "Python 3 (ipykernel)",
   "language": "python",
   "name": "python3"
  },
  "language_info": {
   "codemirror_mode": {
    "name": "ipython",
    "version": 3
   },
   "file_extension": ".py",
   "mimetype": "text/x-python",
   "name": "python",
   "nbconvert_exporter": "python",
   "pygments_lexer": "ipython3",
   "version": "3.10.12"
  }
 },
 "nbformat": 4,
 "nbformat_minor": 5
}
