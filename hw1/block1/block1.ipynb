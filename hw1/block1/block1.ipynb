{
 "cells": [
  {
   "cell_type": "code",
   "execution_count": 2,
   "id": "b3b892a7-b393-4eb6-9022-4f742fb18505",
   "metadata": {},
   "outputs": [],
   "source": [
    "!hadoop fs -mkdir /hw1\n"
   ]
  },
  {
   "cell_type": "code",
   "execution_count": 6,
   "id": "35b02170-6571-4542-9ec6-e37f31c61661",
   "metadata": {},
   "outputs": [],
   "source": [
    "!hadoop fs -put text.txt /hw1"
   ]
  },
  {
   "cell_type": "code",
   "execution_count": 7,
   "id": "6c391c58-e7b6-49fc-8c8a-92523a583558",
   "metadata": {},
   "outputs": [
    {
     "name": "stdout",
     "output_type": "stream",
     "text": [
      "Found 1 items\n",
      "-rw-r--r--   3 root supergroup         75 2023-11-26 03:40 /hw1/text.txt\n"
     ]
    }
   ],
   "source": [
    "!hadoop fs -ls /hw1"
   ]
  },
  {
   "cell_type": "code",
   "execution_count": 8,
   "id": "98e2cd46-6495-48a1-b9a6-38e775c40b0d",
   "metadata": {},
   "outputs": [
    {
     "name": "stdout",
     "output_type": "stream",
     "text": [
      "75  225  /hw1/text.txt\n"
     ]
    }
   ],
   "source": [
    "!hadoop fs -du -h /hw1"
   ]
  },
  {
   "cell_type": "code",
   "execution_count": 9,
   "id": "b56f69ba-acd9-41c4-8e22-85a744c9fa94",
   "metadata": {},
   "outputs": [
    {
     "name": "stdout",
     "output_type": "stream",
     "text": [
      "sadasdasda\n",
      "sagafasf\n",
      "asdasdasfasdfa\n",
      "dasdasdasgf\n",
      "\n",
      "asdasdasd\n",
      "dasdasdasd\n",
      "sdad\n",
      "\n"
     ]
    }
   ],
   "source": [
    "!hadoop fs -cat /hw1/text.txt"
   ]
  },
  {
   "cell_type": "code",
   "execution_count": 10,
   "id": "c69aebc5-3dfd-4362-89a8-b10a38206a96",
   "metadata": {},
   "outputs": [
    {
     "name": "stdout",
     "output_type": "stream",
     "text": [
      "Number of Maps  = 15\n",
      "Samples per Map = 1800\n",
      "Wrote input for Map #0\n",
      "Wrote input for Map #1\n",
      "Wrote input for Map #2\n",
      "Wrote input for Map #3\n",
      "Wrote input for Map #4\n",
      "Wrote input for Map #5\n",
      "Wrote input for Map #6\n",
      "Wrote input for Map #7\n",
      "Wrote input for Map #8\n",
      "Wrote input for Map #9\n",
      "Wrote input for Map #10\n",
      "Wrote input for Map #11\n",
      "Wrote input for Map #12\n",
      "Wrote input for Map #13\n",
      "Wrote input for Map #14\n",
      "Starting Job\n",
      "2023-11-26 03:46:02 INFO  DefaultNoHARMFailoverProxyProvider:64 - Connecting to ResourceManager at resourcemanager/172.18.0.4:8032\n",
      "2023-11-26 03:46:03 INFO  JobResourceUploader:907 - Disabling Erasure Coding for path: /tmp/hadoop-yarn/staging/root/.staging/job_1700958698020_0001\n",
      "2023-11-26 03:46:03 INFO  FileInputFormat:300 - Total input files to process : 15\n",
      "2023-11-26 03:46:03 INFO  JobSubmitter:202 - number of splits:15\n",
      "2023-11-26 03:46:03 INFO  JobSubmitter:298 - Submitting tokens for job: job_1700958698020_0001\n",
      "2023-11-26 03:46:03 INFO  JobSubmitter:299 - Executing with tokens: []\n",
      "2023-11-26 03:46:03 INFO  Configuration:2854 - resource-types.xml not found\n",
      "2023-11-26 03:46:03 INFO  ResourceUtils:476 - Unable to find 'resource-types.xml'.\n",
      "2023-11-26 03:46:03 INFO  YarnClientImpl:338 - Submitted application application_1700958698020_0001\n",
      "2023-11-26 03:46:03 INFO  Job:1682 - The url to track the job: http://resourcemanager:8088/proxy/application_1700958698020_0001/\n",
      "2023-11-26 03:46:03 INFO  Job:1727 - Running job: job_1700958698020_0001\n",
      "2023-11-26 03:46:07 INFO  Job:1748 - Job job_1700958698020_0001 running in uber mode : false\n",
      "2023-11-26 03:46:07 INFO  Job:1755 -  map 0% reduce 0%\n",
      "2023-11-26 03:46:11 INFO  Job:1755 -  map 7% reduce 0%\n",
      "2023-11-26 03:46:12 INFO  Job:1755 -  map 13% reduce 0%\n",
      "2023-11-26 03:46:13 INFO  Job:1755 -  map 20% reduce 0%\n",
      "2023-11-26 03:46:14 INFO  Job:1755 -  map 27% reduce 0%\n",
      "2023-11-26 03:46:15 INFO  Job:1755 -  map 33% reduce 0%\n",
      "2023-11-26 03:46:16 INFO  Job:1755 -  map 40% reduce 0%\n",
      "2023-11-26 03:46:17 INFO  Job:1755 -  map 47% reduce 0%\n",
      "2023-11-26 03:46:18 INFO  Job:1755 -  map 53% reduce 0%\n",
      "2023-11-26 03:46:19 INFO  Job:1755 -  map 60% reduce 0%\n",
      "2023-11-26 03:46:20 INFO  Job:1755 -  map 67% reduce 0%\n",
      "2023-11-26 03:46:21 INFO  Job:1755 -  map 73% reduce 0%\n",
      "2023-11-26 03:46:23 INFO  Job:1755 -  map 80% reduce 0%\n",
      "2023-11-26 03:46:24 INFO  Job:1755 -  map 87% reduce 0%\n",
      "2023-11-26 03:46:26 INFO  Job:1755 -  map 93% reduce 0%\n",
      "2023-11-26 03:46:27 INFO  Job:1755 -  map 100% reduce 0%\n",
      "2023-11-26 03:46:28 INFO  Job:1755 -  map 100% reduce 100%\n",
      "2023-11-26 03:46:28 INFO  Job:1766 - Job job_1700958698020_0001 completed successfully\n",
      "2023-11-26 03:46:28 INFO  Job:1773 - Counters: 54\n",
      "\tFile System Counters\n",
      "\t\tFILE: Number of bytes read=336\n",
      "\t\tFILE: Number of bytes written=4461026\n",
      "\t\tFILE: Number of read operations=0\n",
      "\t\tFILE: Number of large read operations=0\n",
      "\t\tFILE: Number of write operations=0\n",
      "\t\tHDFS: Number of bytes read=3875\n",
      "\t\tHDFS: Number of bytes written=215\n",
      "\t\tHDFS: Number of read operations=65\n",
      "\t\tHDFS: Number of large read operations=0\n",
      "\t\tHDFS: Number of write operations=3\n",
      "\t\tHDFS: Number of bytes read erasure-coded=0\n",
      "\tJob Counters \n",
      "\t\tLaunched map tasks=15\n",
      "\t\tLaunched reduce tasks=1\n",
      "\t\tRack-local map tasks=15\n",
      "\t\tTotal time spent by all maps in occupied slots (ms)=24050\n",
      "\t\tTotal time spent by all reduces in occupied slots (ms)=15740\n",
      "\t\tTotal time spent by all map tasks (ms)=12025\n",
      "\t\tTotal time spent by all reduce tasks (ms)=7870\n",
      "\t\tTotal vcore-milliseconds taken by all map tasks=12025\n",
      "\t\tTotal vcore-milliseconds taken by all reduce tasks=7870\n",
      "\t\tTotal megabyte-milliseconds taken by all map tasks=12313600\n",
      "\t\tTotal megabyte-milliseconds taken by all reduce tasks=8058880\n",
      "\tMap-Reduce Framework\n",
      "\t\tMap input records=15\n",
      "\t\tMap output records=30\n",
      "\t\tMap output bytes=270\n",
      "\t\tMap output materialized bytes=420\n",
      "\t\tInput split bytes=2105\n",
      "\t\tCombine input records=0\n",
      "\t\tCombine output records=0\n",
      "\t\tReduce input groups=2\n",
      "\t\tReduce shuffle bytes=420\n",
      "\t\tReduce input records=30\n",
      "\t\tReduce output records=0\n",
      "\t\tSpilled Records=60\n",
      "\t\tShuffled Maps =15\n",
      "\t\tFailed Shuffles=0\n",
      "\t\tMerged Map outputs=15\n",
      "\t\tGC time elapsed (ms)=309\n",
      "\t\tCPU time spent (ms)=2520\n",
      "\t\tPhysical memory (bytes) snapshot=4411764736\n",
      "\t\tVirtual memory (bytes) snapshot=41850859520\n",
      "\t\tTotal committed heap usage (bytes)=6188171264\n",
      "\t\tPeak Map Physical memory (bytes)=284057600\n",
      "\t\tPeak Map Virtual memory (bytes)=2618372096\n",
      "\t\tPeak Reduce Physical memory (bytes)=275357696\n",
      "\t\tPeak Reduce Virtual memory (bytes)=2623197184\n",
      "\tShuffle Errors\n",
      "\t\tBAD_ID=0\n",
      "\t\tCONNECTION=0\n",
      "\t\tIO_ERROR=0\n",
      "\t\tWRONG_LENGTH=0\n",
      "\t\tWRONG_MAP=0\n",
      "\t\tWRONG_REDUCE=0\n",
      "\tFile Input Format Counters \n",
      "\t\tBytes Read=1770\n",
      "\tFile Output Format Counters \n",
      "\t\tBytes Written=97\n",
      "Job Finished in 25.569 seconds\n",
      "Estimated value of Pi is 3.14162962962962962963\n"
     ]
    }
   ],
   "source": [
    "!hadoop jar /opt/hadoop/share/hadoop/mapreduce/hadoop-mapreduce-examples-3.3.6.jar pi 15 1800"
   ]
  },
  {
   "cell_type": "code",
   "execution_count": null,
   "id": "dc0dd59b-4803-4d4f-b582-971859108ac9",
   "metadata": {},
   "outputs": [],
   "source": []
  },
  {
   "cell_type": "code",
   "execution_count": null,
   "id": "6118eab8-2a4b-492e-8f3a-7050494963ab",
   "metadata": {},
   "outputs": [],
   "source": []
  },
  {
   "cell_type": "code",
   "execution_count": null,
   "id": "788f3d3a-b691-4eb9-ae26-71f8b90d0113",
   "metadata": {},
   "outputs": [],
   "source": []
  },
  {
   "cell_type": "code",
   "execution_count": null,
   "id": "c29648d5-d730-4b25-aae3-6801de252884",
   "metadata": {},
   "outputs": [],
   "source": []
  }
 ],
 "metadata": {
  "kernelspec": {
   "display_name": "Python 3 (ipykernel)",
   "language": "python",
   "name": "python3"
  },
  "language_info": {
   "codemirror_mode": {
    "name": "ipython",
    "version": 3
   },
   "file_extension": ".py",
   "mimetype": "text/x-python",
   "name": "python",
   "nbconvert_exporter": "python",
   "pygments_lexer": "ipython3",
   "version": "3.10.12"
  }
 },
 "nbformat": 4,
 "nbformat_minor": 5
}
